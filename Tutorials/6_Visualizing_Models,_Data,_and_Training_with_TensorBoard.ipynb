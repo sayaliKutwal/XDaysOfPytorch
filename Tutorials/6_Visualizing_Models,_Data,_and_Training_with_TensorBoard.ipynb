{
  "nbformat": 4,
  "nbformat_minor": 0,
  "metadata": {
    "colab": {
      "name": "6. Visualizing Models, Data, and Training with TensorBoard",
      "version": "0.3.2",
      "provenance": [],
      "include_colab_link": true
    },
    "kernelspec": {
      "name": "python3",
      "display_name": "Python 3"
    }
  },
  "cells": [
    {
      "cell_type": "markdown",
      "metadata": {
        "id": "view-in-github",
        "colab_type": "text"
      },
      "source": [
        "<a href=\"https://colab.research.google.com/github/sayaliKutwal/XDaysOfPytorch/blob/master/Tutorials/6_Visualizing_Models%2C_Data%2C_and_Training_with_TensorBoard.ipynb\" target=\"_parent\"><img src=\"https://colab.research.google.com/assets/colab-badge.svg\" alt=\"Open In Colab\"/></a>"
      ]
    },
    {
      "cell_type": "markdown",
      "metadata": {
        "id": "GiEOBZoQdc6A",
        "colab_type": "text"
      },
      "source": [
        "6- Visualizing Models, Data, and Training with TensorBoard"
      ]
    },
    {
      "cell_type": "code",
      "metadata": {
        "id": "NXKoQ7zSdaNW",
        "colab_type": "code",
        "colab": {}
      },
      "source": [
        ""
      ],
      "execution_count": 0,
      "outputs": []
    }
  ]
}