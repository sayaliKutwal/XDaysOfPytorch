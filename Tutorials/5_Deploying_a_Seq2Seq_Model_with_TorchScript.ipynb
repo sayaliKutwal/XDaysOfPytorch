{
  "nbformat": 4,
  "nbformat_minor": 0,
  "metadata": {
    "colab": {
      "name": "5. Deploying a Seq2Seq Model with TorchScript",
      "version": "0.3.2",
      "provenance": [],
      "include_colab_link": true
    },
    "kernelspec": {
      "name": "python3",
      "display_name": "Python 3"
    }
  },
  "cells": [
    {
      "cell_type": "markdown",
      "metadata": {
        "id": "view-in-github",
        "colab_type": "text"
      },
      "source": [
        "<a href=\"https://colab.research.google.com/github/sayaliKutwal/XDaysOfPytorch/blob/master/Tutorials/5_Deploying_a_Seq2Seq_Model_with_TorchScript.ipynb\" target=\"_parent\"><img src=\"https://colab.research.google.com/assets/colab-badge.svg\" alt=\"Open In Colab\"/></a>"
      ]
    },
    {
      "cell_type": "markdown",
      "metadata": {
        "id": "YJKJvxWBdOBu",
        "colab_type": "text"
      },
      "source": [
        "5- Deploying a Seq2Seq Model with TorchScript"
      ]
    },
    {
      "cell_type": "code",
      "metadata": {
        "id": "AE90HzNldMLh",
        "colab_type": "code",
        "colab": {}
      },
      "source": [
        ""
      ],
      "execution_count": 0,
      "outputs": []
    }
  ]
}