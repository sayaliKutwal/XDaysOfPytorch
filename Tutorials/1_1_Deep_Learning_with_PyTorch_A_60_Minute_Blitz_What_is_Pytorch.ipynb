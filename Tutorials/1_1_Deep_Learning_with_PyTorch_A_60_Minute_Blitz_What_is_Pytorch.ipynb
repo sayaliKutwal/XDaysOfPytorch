{
  "nbformat": 4,
  "nbformat_minor": 0,
  "metadata": {
    "colab": {
      "name": "1.1  Deep Learning with PyTorch: A 60 Minute Blitz -What is Pytorch",
      "version": "0.3.2",
      "provenance": [],
      "toc_visible": true,
      "include_colab_link": true
    },
    "kernelspec": {
      "name": "python3",
      "display_name": "Python 3"
    }
  },
  "cells": [
    {
      "cell_type": "markdown",
      "metadata": {
        "id": "view-in-github",
        "colab_type": "text"
      },
      "source": [
        "<a href=\"https://colab.research.google.com/github/sayaliKutwal/XDaysOfPytorch/blob/master/Tutorials/1_1_Deep_Learning_with_PyTorch_A_60_Minute_Blitz_What_is_Pytorch.ipynb\" target=\"_parent\"><img src=\"https://colab.research.google.com/assets/colab-badge.svg\" alt=\"Open In Colab\"/></a>"
      ]
    },
    {
      "cell_type": "markdown",
      "metadata": {
        "id": "fi-tf5I_b8e0",
        "colab_type": "text"
      },
      "source": [
        "# **Deep Learning with PyTorch: A 60 Minute Blitz**\n",
        "\n",
        "*   What is pytorch?\n",
        "*   Autograd: Automatic Diifferentiation\n",
        "*   Neural Networks\n",
        "*   Training a Classifier \n",
        "*   Data Parallelisms\n",
        "\n"
      ]
    },
    {
      "cell_type": "markdown",
      "metadata": {
        "id": "4RBucNjSqVVW",
        "colab_type": "text"
      },
      "source": [
        "# **1. What is Pytorch?**\n",
        "\n",
        "Tensors are numpy nd arrays which can be used on GPUs. \n"
      ]
    },
    {
      "cell_type": "code",
      "metadata": {
        "id": "RY7BgPLFbs5M",
        "colab_type": "code",
        "outputId": "45bc629c-c72a-4bb7-c332-f80f19d634ae",
        "colab": {
          "base_uri": "https://localhost:8080/",
          "height": 102
        }
      },
      "source": [
        "from __future__ import print_function\n",
        "import torch\n",
        "\n",
        "x = torch.empty(5, 3)\n",
        "x"
      ],
      "execution_count": 0,
      "outputs": [
        {
          "output_type": "execute_result",
          "data": {
            "text/plain": [
              "tensor([[1.4474e-35, 0.0000e+00, 4.4842e-44],\n",
              "        [0.0000e+00,        nan, 0.0000e+00],\n",
              "        [2.1864e+23, 6.5261e-10, 1.3517e+22],\n",
              "        [3.3734e-06, 5.2946e-08, 1.0606e-08],\n",
              "        [3.3234e-09, 2.7599e-06, 0.0000e+00]])"
            ]
          },
          "metadata": {
            "tags": []
          },
          "execution_count": 8
        }
      ]
    },
    {
      "cell_type": "markdown",
      "metadata": {
        "id": "sd1vk0YgsggH",
        "colab_type": "text"
      },
      "source": [
        "NOTE\n",
        "\n",
        "An uninitialized matrix is declared, but does not contain definite known values before it is used. When an uninitialized matrix is created, whatever values were in the allocated memory at the time will appear as the initial values."
      ]
    },
    {
      "cell_type": "markdown",
      "metadata": {
        "id": "_j7plreRsnLa",
        "colab_type": "text"
      },
      "source": [
        "Construct randomly initialised matrix."
      ]
    },
    {
      "cell_type": "code",
      "metadata": {
        "id": "CpCEnWupsCGr",
        "colab_type": "code",
        "outputId": "62bef3cb-2ff6-485e-bc87-e2c0140370c1",
        "colab": {
          "base_uri": "https://localhost:8080/",
          "height": 68
        }
      },
      "source": [
        "x = torch.rand(3, 4)\n",
        "x"
      ],
      "execution_count": 0,
      "outputs": [
        {
          "output_type": "execute_result",
          "data": {
            "text/plain": [
              "tensor([[0.1048, 0.1689, 0.7784, 0.5388],\n",
              "        [0.5284, 0.4600, 0.2093, 0.6075],\n",
              "        [0.5687, 0.1655, 0.2409, 0.8679]])"
            ]
          },
          "metadata": {
            "tags": []
          },
          "execution_count": 7
        }
      ]
    },
    {
      "cell_type": "markdown",
      "metadata": {
        "id": "vzqSsgyOs9Cf",
        "colab_type": "text"
      },
      "source": [
        "COnstruch a matrix filled with zeors and data data type long."
      ]
    },
    {
      "cell_type": "code",
      "metadata": {
        "id": "uxAA3dS2tFQ9",
        "colab_type": "code",
        "outputId": "ce07e9ed-e10d-48b3-8603-39d7c7c0c936",
        "colab": {
          "base_uri": "https://localhost:8080/",
          "height": 85
        }
      },
      "source": [
        "x = torch.zeros(4, 2, dtype=torch.long)\n",
        "x"
      ],
      "execution_count": 0,
      "outputs": [
        {
          "output_type": "execute_result",
          "data": {
            "text/plain": [
              "tensor([[0, 0],\n",
              "        [0, 0],\n",
              "        [0, 0],\n",
              "        [0, 0]])"
            ]
          },
          "metadata": {
            "tags": []
          },
          "execution_count": 9
        }
      ]
    },
    {
      "cell_type": "markdown",
      "metadata": {
        "id": "_rWXEAQetW3Y",
        "colab_type": "text"
      },
      "source": [
        "Construct a tensor directly from data"
      ]
    },
    {
      "cell_type": "code",
      "metadata": {
        "id": "FKNqKuJGt9-E",
        "colab_type": "code",
        "outputId": "7101c29a-5650-4631-d535-6fe44146e4d5",
        "colab": {
          "base_uri": "https://localhost:8080/",
          "height": 34
        }
      },
      "source": [
        "x = torch.tensor([32, 212.4])\n",
        "x"
      ],
      "execution_count": 0,
      "outputs": [
        {
          "output_type": "execute_result",
          "data": {
            "text/plain": [
              "tensor([ 32.0000, 212.4000])"
            ]
          },
          "metadata": {
            "tags": []
          },
          "execution_count": 11
        }
      ]
    },
    {
      "cell_type": "markdown",
      "metadata": {
        "id": "pAIT1blktz0-",
        "colab_type": "text"
      },
      "source": [
        "Create a tensor based on a existing tensor."
      ]
    },
    {
      "cell_type": "code",
      "metadata": {
        "id": "0y7XUN_uueOf",
        "colab_type": "code",
        "outputId": "cc63875a-d366-432a-fd84-0fec23566cfc",
        "colab": {
          "base_uri": "https://localhost:8080/",
          "height": 68
        }
      },
      "source": [
        "x = x.new_ones(3, 2, dtype = torch.long) # converts x into 3*2 matrix with defined data type\n",
        "                                         # new_* method take in sizes\n",
        "x"
      ],
      "execution_count": 0,
      "outputs": [
        {
          "output_type": "execute_result",
          "data": {
            "text/plain": [
              "tensor([[1, 1],\n",
              "        [1, 1],\n",
              "        [1, 1]])"
            ]
          },
          "metadata": {
            "tags": []
          },
          "execution_count": 17
        }
      ]
    },
    {
      "cell_type": "code",
      "metadata": {
        "id": "OK54lvalvdNn",
        "colab_type": "code",
        "outputId": "62ab38b6-cf88-44e6-cff4-e08db5be08ff",
        "colab": {
          "base_uri": "https://localhost:8080/",
          "height": 68
        }
      },
      "source": [
        "x = torch.randn_like(x, dtype=torch.float)  # overrides datatype, can use rand_like\n",
        "x"
      ],
      "execution_count": 0,
      "outputs": [
        {
          "output_type": "execute_result",
          "data": {
            "text/plain": [
              "tensor([[ 0.0683, -1.1303],\n",
              "        [-0.5089, -0.6702],\n",
              "        [-0.2636, -0.6439]])"
            ]
          },
          "metadata": {
            "tags": []
          },
          "execution_count": 20
        }
      ]
    },
    {
      "cell_type": "code",
      "metadata": {
        "id": "btANRJv4vr-T",
        "colab_type": "code",
        "outputId": "8850f055-bb6a-4c5b-de93-28c75996e3ef",
        "colab": {
          "base_uri": "https://localhost:8080/",
          "height": 34
        }
      },
      "source": [
        "x.size()   # print the size of x"
      ],
      "execution_count": 0,
      "outputs": [
        {
          "output_type": "execute_result",
          "data": {
            "text/plain": [
              "torch.Size([3, 2])"
            ]
          },
          "metadata": {
            "tags": []
          },
          "execution_count": 23
        }
      ]
    },
    {
      "cell_type": "markdown",
      "metadata": {
        "id": "stABHpUuwFIs",
        "colab_type": "text"
      },
      "source": [
        "NOTE\n",
        "\n",
        "torch.Size is in fact a tuple, so it supports all tuple operations."
      ]
    },
    {
      "cell_type": "markdown",
      "metadata": {
        "id": "SHvvTl93wUdh",
        "colab_type": "text"
      },
      "source": [
        "# Operations\n",
        "There are multiple syntaxes for operations."
      ]
    },
    {
      "cell_type": "code",
      "metadata": {
        "id": "OfvjDSz5wt0K",
        "colab_type": "code",
        "outputId": "b984d46f-69fc-45e6-d548-d46863928401",
        "colab": {
          "base_uri": "https://localhost:8080/",
          "height": 68
        }
      },
      "source": [
        "# Addition syntax 1\n",
        "y = torch.rand(3, 2)\n",
        "x + y"
      ],
      "execution_count": 0,
      "outputs": [
        {
          "output_type": "execute_result",
          "data": {
            "text/plain": [
              "tensor([[ 0.8618, -0.6579],\n",
              "        [ 0.4198, -0.1230],\n",
              "        [ 0.2180, -0.2308]])"
            ]
          },
          "metadata": {
            "tags": []
          },
          "execution_count": 29
        }
      ]
    },
    {
      "cell_type": "code",
      "metadata": {
        "id": "49Ky4I5wxnYP",
        "colab_type": "code",
        "outputId": "1cdd0e06-d2bd-4792-84e8-4eefe8891854",
        "colab": {
          "base_uri": "https://localhost:8080/",
          "height": 68
        }
      },
      "source": [
        "# Addition syntax 2\n",
        "add = torch.add(x, y)\n",
        "add"
      ],
      "execution_count": 0,
      "outputs": [
        {
          "output_type": "execute_result",
          "data": {
            "text/plain": [
              "tensor([[ 0.8618, -0.6579],\n",
              "        [ 0.4198, -0.1230],\n",
              "        [ 0.2180, -0.2308]])"
            ]
          },
          "metadata": {
            "tags": []
          },
          "execution_count": 30
        }
      ]
    },
    {
      "cell_type": "code",
      "metadata": {
        "id": "qNI7_1cNxxKb",
        "colab_type": "code",
        "outputId": "d528227b-a5aa-472e-f09d-8888d3f655b7",
        "colab": {
          "base_uri": "https://localhost:8080/",
          "height": 68
        }
      },
      "source": [
        "# Addition syntax 3\n",
        "result = torch.empty(3, 2)\n",
        "torch.add(x, y, out=result)\n",
        "result"
      ],
      "execution_count": 0,
      "outputs": [
        {
          "output_type": "execute_result",
          "data": {
            "text/plain": [
              "tensor([[ 0.8618, -0.6579],\n",
              "        [ 0.4198, -0.1230],\n",
              "        [ 0.2180, -0.2308]])"
            ]
          },
          "metadata": {
            "tags": []
          },
          "execution_count": 31
        }
      ]
    },
    {
      "cell_type": "code",
      "metadata": {
        "id": "4g_Ho_OIyIct",
        "colab_type": "code",
        "outputId": "d0920896-96f6-4ae4-b4c6-a7c946a8f8af",
        "colab": {
          "base_uri": "https://localhost:8080/",
          "height": 68
        }
      },
      "source": [
        "# Addition: in-place\n",
        "# adds x to y\n",
        "y.add_(x)\n",
        "y"
      ],
      "execution_count": 0,
      "outputs": [
        {
          "output_type": "execute_result",
          "data": {
            "text/plain": [
              "tensor([[ 0.8618, -0.6579],\n",
              "        [ 0.4198, -0.1230],\n",
              "        [ 0.2180, -0.2308]])"
            ]
          },
          "metadata": {
            "tags": []
          },
          "execution_count": 32
        }
      ]
    },
    {
      "cell_type": "markdown",
      "metadata": {
        "id": "I4Q0FOqWycLW",
        "colab_type": "text"
      },
      "source": [
        "NOTE\n",
        "\n",
        "Any operation that mutates a tensor in-place is post-fixed with an _. For example: x.copy__(y), x.t__(), will change x."
      ]
    },
    {
      "cell_type": "code",
      "metadata": {
        "id": "Lmb6aXnPyrN3",
        "colab_type": "code",
        "outputId": "0fa1fa60-34e1-4259-8d94-13586a9e7eaa",
        "colab": {
          "base_uri": "https://localhost:8080/",
          "height": 34
        }
      },
      "source": [
        "# You can use standard NumPy-like indexing with all bells and whistles!\n",
        "\n",
        "print(x[1, :])"
      ],
      "execution_count": 0,
      "outputs": [
        {
          "output_type": "stream",
          "text": [
            "tensor([-0.5089, -0.6702])\n"
          ],
          "name": "stdout"
        }
      ]
    },
    {
      "cell_type": "markdown",
      "metadata": {
        "id": "FPrpynAFzPeC",
        "colab_type": "text"
      },
      "source": [
        "Resizing: If you want to resize/reshape tensors, use torch.view"
      ]
    },
    {
      "cell_type": "code",
      "metadata": {
        "id": "WJDWSvFEz0Nw",
        "colab_type": "code",
        "outputId": "4708c347-9681-4d66-a0be-acc9912c7934",
        "colab": {
          "base_uri": "https://localhost:8080/",
          "height": 34
        }
      },
      "source": [
        "x = torch.randn(4, 5)\n",
        "y = x.view(20)\n",
        "z = x.view(20, -1) # the size -1 is inferred from other dimensions\n",
        "print(x.size(), y.size(), z.size())"
      ],
      "execution_count": 0,
      "outputs": [
        {
          "output_type": "stream",
          "text": [
            "torch.Size([4, 5]) torch.Size([20]) torch.Size([20, 1])\n"
          ],
          "name": "stdout"
        }
      ]
    },
    {
      "cell_type": "markdown",
      "metadata": {
        "id": "0y5_IpQc0SAw",
        "colab_type": "text"
      },
      "source": [
        "If you have only one-element tensor, use .item() to get the value as a python number."
      ]
    },
    {
      "cell_type": "code",
      "metadata": {
        "id": "MXrfjx2P1Ind",
        "colab_type": "code",
        "outputId": "9a51cdad-fadc-4053-b12e-f749e61ec0f1",
        "colab": {
          "base_uri": "https://localhost:8080/",
          "height": 51
        }
      },
      "source": [
        "x = torch.rand(1)\n",
        "print(x)\n",
        "x.item()"
      ],
      "execution_count": 0,
      "outputs": [
        {
          "output_type": "stream",
          "text": [
            "tensor([0.9723])\n"
          ],
          "name": "stdout"
        },
        {
          "output_type": "execute_result",
          "data": {
            "text/plain": [
              "0.9723095297813416"
            ]
          },
          "metadata": {
            "tags": []
          },
          "execution_count": 43
        }
      ]
    },
    {
      "cell_type": "markdown",
      "metadata": {
        "id": "XIXjtOZi1Zu6",
        "colab_type": "text"
      },
      "source": [
        "Continue from here https://pytorch.org/tutorials/beginner/blitz/tensor_tutorial.html#numpy-bridge "
      ]
    },
    {
      "cell_type": "markdown",
      "metadata": {
        "id": "7lfhjBItnRkl",
        "colab_type": "text"
      },
      "source": [
        "# **NumPy Bridge**"
      ]
    },
    {
      "cell_type": "code",
      "metadata": {
        "id": "aCurcmgznwpg",
        "colab_type": "code",
        "colab": {
          "base_uri": "https://localhost:8080/",
          "height": 51
        },
        "outputId": "78cbbe6e-fc6a-4023-fdd7-9439e2965b84"
      },
      "source": [
        "# Converting a Torch Tensor to a Numpy array\n",
        "import torch\n",
        "a = torch.ones(5)\n",
        "print(a)\n",
        "b = a.numpy()\n",
        "print(b)"
      ],
      "execution_count": 4,
      "outputs": [
        {
          "output_type": "stream",
          "text": [
            "tensor([1., 1., 1., 1., 1.])\n",
            "[1. 1. 1. 1. 1.]\n"
          ],
          "name": "stdout"
        }
      ]
    },
    {
      "cell_type": "code",
      "metadata": {
        "id": "5zK_ap_toHS6",
        "colab_type": "code",
        "colab": {
          "base_uri": "https://localhost:8080/",
          "height": 51
        },
        "outputId": "9c61d1cf-f45c-4d6b-f7c2-4ace3031288c"
      },
      "source": [
        "# See how the numpy array changed in value\n",
        "a.add_(1)\n",
        "print(a)\n",
        "print(b)"
      ],
      "execution_count": 6,
      "outputs": [
        {
          "output_type": "stream",
          "text": [
            "tensor([3., 3., 3., 3., 3.])\n",
            "[3. 3. 3. 3. 3.]\n"
          ],
          "name": "stdout"
        }
      ]
    },
    {
      "cell_type": "code",
      "metadata": {
        "id": "DHO7kA7upGjy",
        "colab_type": "code",
        "colab": {
          "base_uri": "https://localhost:8080/",
          "height": 51
        },
        "outputId": "bcfc2f7b-5426-44db-f21e-5a95d650995b"
      },
      "source": [
        "#  Converting numpy arraye into torch tensor\n",
        "\n",
        "import numpy as np\n",
        "a = np.ones(3)\n",
        "b = torch.from_numpy(a)\n",
        "np.add(a, 1,out=a)\n",
        "print(a)\n",
        "print(b)"
      ],
      "execution_count": 7,
      "outputs": [
        {
          "output_type": "stream",
          "text": [
            "[2. 2. 2.]\n",
            "tensor([2., 2., 2.], dtype=torch.float64)\n"
          ],
          "name": "stdout"
        }
      ]
    },
    {
      "cell_type": "markdown",
      "metadata": {
        "id": "G8zzwK4iph6V",
        "colab_type": "text"
      },
      "source": [
        "All the Tensors on the CPU except a CharTensor support converting to NumPy and back."
      ]
    },
    {
      "cell_type": "markdown",
      "metadata": {
        "id": "s5w9zGKFpuEM",
        "colab_type": "text"
      },
      "source": [
        "**CUDA Tensor**\n",
        "Tensors can be moved onto any device using the .to method"
      ]
    },
    {
      "cell_type": "code",
      "metadata": {
        "id": "u42wWYp9qD6T",
        "colab_type": "code",
        "colab": {}
      },
      "source": [
        "if torch.cuda.is_available():\n",
        "  device = torch.device('cuda')\n",
        "  y = torch.ones_like(x, device=device) \n",
        "  x = x.to(device)   # can use .to('cuda')\n",
        "  z = x + y\n",
        "  print(z)\n",
        "  print(z.to('cpu', torch.double))"
      ],
      "execution_count": 0,
      "outputs": []
    },
    {
      "cell_type": "code",
      "metadata": {
        "id": "7iD4DFa4qpGP",
        "colab_type": "code",
        "colab": {}
      },
      "source": [
        ""
      ],
      "execution_count": 0,
      "outputs": []
    }
  ]
}